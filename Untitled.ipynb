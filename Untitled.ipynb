{
 "cells": [
  {
   "cell_type": "code",
   "execution_count": 5,
   "metadata": {},
   "outputs": [
    {
     "name": "stdout",
     "output_type": "stream",
     "text": [
      "Введите название log файлаFG - Copy.log\n",
      "['t_fedorova_nb$', 'S.Shapoval', 'S.Panov', 'Andrey.Kalinin', 'N.Kovaleva', 'e_vasylenko_nb$', '', 'm.sokolskih']\n"
     ]
    },
    {
     "ename": "FileNotFoundError",
     "evalue": "[Errno 2] No such file or directory: '/mnt/c/Users/Y.Kazabekov/projects/Network_utilities/users.txt'",
     "output_type": "error",
     "traceback": [
      "\u001b[1;31m---------------------------------------------------------------------------\u001b[0m",
      "\u001b[1;31mFileNotFoundError\u001b[0m                         Traceback (most recent call last)",
      "\u001b[1;32m<ipython-input-5-b6a2b58b7a86>\u001b[0m in \u001b[0;36m<module>\u001b[1;34m\u001b[0m\n\u001b[0;32m     30\u001b[0m \u001b[0mprint\u001b[0m\u001b[1;33m(\u001b[0m\u001b[0musers\u001b[0m\u001b[1;33m)\u001b[0m\u001b[1;33m\u001b[0m\u001b[1;33m\u001b[0m\u001b[0m\n\u001b[0;32m     31\u001b[0m \u001b[1;33m\u001b[0m\u001b[0m\n\u001b[1;32m---> 32\u001b[1;33m \u001b[0mf\u001b[0m \u001b[1;33m=\u001b[0m \u001b[0mopen\u001b[0m\u001b[1;33m(\u001b[0m\u001b[1;34m'/mnt/c/Users/Y.Kazabekov/projects/Network_utilities/users.txt'\u001b[0m\u001b[1;33m)\u001b[0m\u001b[1;33m\u001b[0m\u001b[1;33m\u001b[0m\u001b[0m\n\u001b[0m\u001b[0;32m     33\u001b[0m \u001b[1;32mfor\u001b[0m \u001b[0mitem\u001b[0m \u001b[1;32min\u001b[0m \u001b[0musers\u001b[0m\u001b[1;33m:\u001b[0m\u001b[1;33m\u001b[0m\u001b[1;33m\u001b[0m\u001b[0m\n\u001b[0;32m     34\u001b[0m     \u001b[0mf\u001b[0m\u001b[1;33m.\u001b[0m\u001b[0mwrite\u001b[0m\u001b[1;33m(\u001b[0m\u001b[1;34m\"%s\\n\"\u001b[0m \u001b[1;33m%\u001b[0m \u001b[0mitem\u001b[0m\u001b[1;33m)\u001b[0m\u001b[1;33m\u001b[0m\u001b[1;33m\u001b[0m\u001b[0m\n",
      "\u001b[1;31mFileNotFoundError\u001b[0m: [Errno 2] No such file or directory: '/mnt/c/Users/Y.Kazabekov/projects/Network_utilities/users.txt'"
     ]
    }
   ],
   "source": [
    "log_filename = input('Введите название log файла')\n",
    "with open(log_filename) as file:\n",
    "    array = [row.strip() for row in file]\n",
    "\n",
    "#with open('FG - Copy.log') as file:\n",
    "#    array = [row.strip() for row in file]\n",
    "    \n",
    "      \n",
    "\n",
    "users = []\n",
    "\n",
    "        \n",
    "for n in array:\n",
    "    '''res=n\n",
    "    text = res[0]\n",
    "    print(text[text.find('.tscrm.com'):(text.find('.tscrm.com')+10)])'''\n",
    "        #print(n)\n",
    "        \n",
    "    mystring = n\n",
    "    keyword = 'unauthuser=\"'\n",
    "    before_keyword, keyword, after_keyword = mystring.partition(keyword)\n",
    "    mystring2 = after_keyword\n",
    "    #print(mystring2)\n",
    "    keyword2 = '\" unauthusersource'\n",
    "    before_keyword2, keyword2, after_keyword2 = mystring2.partition(keyword2)\n",
    "    #print(before_keyword2)\n",
    "    if before_keyword2 not in users:\n",
    "        users.append(before_keyword2)\n",
    "\n",
    "print(users)\n",
    "\n",
    "f = open('/mnt/c/Users/Y.Kazabekov/projects/Network_utilities/users.txt')\n",
    "for item in users:\n",
    "    f.write(\"%s\\n\" % item)  \n",
    "f.close()\n",
    "\n",
    "input('Нажмите любую клавишу для завершения программы программы')"
   ]
  },
  {
   "cell_type": "code",
   "execution_count": null,
   "metadata": {},
   "outputs": [],
   "source": []
  }
 ],
 "metadata": {
  "kernelspec": {
   "display_name": "Python 3",
   "language": "python",
   "name": "python3"
  },
  "language_info": {
   "codemirror_mode": {
    "name": "ipython",
    "version": 3
   },
   "file_extension": ".py",
   "mimetype": "text/x-python",
   "name": "python",
   "nbconvert_exporter": "python",
   "pygments_lexer": "ipython3",
   "version": "3.7.3"
  }
 },
 "nbformat": 4,
 "nbformat_minor": 2
}
