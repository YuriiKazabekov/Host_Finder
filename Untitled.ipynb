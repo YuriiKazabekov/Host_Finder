{
 "cells": [
  {
   "cell_type": "code",
   "execution_count": 4,
   "metadata": {},
   "outputs": [
    {
     "name": "stdout",
     "output_type": "stream",
     "text": [
      "101 floor_one 28-D2-44-4D-CD-EF 1:11 Dynamic Forward\n",
      "101 floor_one 28-D2-44-4D-CD-F5 1:10 Dynamic Forward\n",
      "101 floor_one 28-D2-44-4D-CF-3D 1:12 Dynamic Forward\n",
      "101 floor_one 28-D2-44-4D-D1-5B 1:1 Dynamic Forward\n",
      "101 floor_one 28-D2-44-5D-66-8B 1:6 Dynamic Forward\n",
      "101 floor_one 3C-52-82-32-BC-09 1:17 Dynamic Forward\n",
      "101 floor_one 3C-97-0E-E5-7B-89 1:3 Dynamic Forward\n",
      "101 floor_one 40-8D-5C-D7-36-4E 1:5 Dynamic Forward\n",
      "101 floor_one 84-C9-B2-8E-E0-A0 CPU Self Forward\n",
      "101 floor_one 9C-B6-54-1D-B7-E1 1:4 Dynamic Forward\n",
      "101 floor_one B4-B5-2F-78-2B-17 1:2 Dynamic Forward\n",
      "101 floor_one B4-B5-2F-87-B8-DE 1:7 Dynamic Forward\n",
      "109 voice 00-0B-82-40-BC-B4 1:1 Dynamic Forward\n",
      "109 voice 00-0B-82-40-BD-6D 1:7 Dynamic Forward\n",
      "109 voice 00-0B-82-45-20-16 1:22 Dynamic Forward\n",
      "109 voice 00-0B-82-45-20-D7 1:6 Dynamic Forward\n",
      "109 voice 00-0B-82-45-76-45 1:11 Dynamic Forward\n",
      "109 voice 00-0B-82-45-7E-FB 1:13 Dynamic Forward\n",
      "109 voice 00-0B-82-55-18-5E 1:4 Dynamic Forward\n",
      "109 voice 00-0B-82-8A-E7-B4 1:10 Dynamic Forward\n",
      "109 voice 00-0B-82-8F-0D-0B 1:12 Dynamic Forward\n",
      "109 voice 00-0B-82-BB-56-CC 1:2 Dynamic Forward\n",
      "109 voice 00-0B-82-BC-76-2A 1:3 Dynamic Forward\n"
     ]
    }
   ],
   "source": [
    "file1 = \"fdb_10.0.1.250.txt\"\n",
    "\n",
    "with open(file1) as file:\n",
    "    array = [row.strip() for row in file]\n",
    "\n",
    "\n",
    "new_array = []\n",
    "final_array = []\n",
    "\n",
    "\n",
    "  \n",
    "for i in array:\n",
    "    if 'Forward' in i:\n",
    "        new_array.append(i)\n",
    "    else:\n",
    "        pass\n",
    "        \n",
    "for i in new_array:\n",
    "    if 'T1' not in i :\n",
    "        i = ' '.join(i.split()) #Оставляет только один пробел\n",
    "        final_array.append(i)\n",
    "  \n",
    "        \n",
    "for n in final_array:\n",
    "   print(n)\n",
    " \n",
    "#print(final_array)"
   ]
  },
  {
   "cell_type": "code",
   "execution_count": null,
   "metadata": {},
   "outputs": [],
   "source": []
  },
  {
   "cell_type": "code",
   "execution_count": null,
   "metadata": {},
   "outputs": [],
   "source": []
  }
 ],
 "metadata": {
  "kernelspec": {
   "display_name": "Python 3",
   "language": "python",
   "name": "python3"
  },
  "language_info": {
   "codemirror_mode": {
    "name": "ipython",
    "version": 3
   },
   "file_extension": ".py",
   "mimetype": "text/x-python",
   "name": "python",
   "nbconvert_exporter": "python",
   "pygments_lexer": "ipython3",
   "version": "3.7.3"
  }
 },
 "nbformat": 4,
 "nbformat_minor": 2
}
